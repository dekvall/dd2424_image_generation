{
 "cells": [
  {
   "cell_type": "code",
   "execution_count": null,
   "metadata": {},
   "outputs": [],
   "source": [
    "import gensim\n",
    "\n",
    "model = gensim.models.KeyedVectors.load_word2vec_format('../models/word2vec_model.bin', binary=True) "
   ]
  },
  {
   "cell_type": "code",
   "execution_count": null,
   "metadata": {},
   "outputs": [],
   "source": [
    "import numpy as np\n",
    "import csv\n",
    "\n",
    "def load_sentences():\n",
    "    with open('../datasets/results.csv', newline='') as csvfile:\n",
    "        label_reader = csv.reader(csvfile, delimiter='|')\n",
    "        next(label_reader)\n",
    "        names = []\n",
    "        comments = []\n",
    "        for row in label_reader:\n",
    "            name, comment_num, comment = row\n",
    "            name = int(name.replace('.jpg',''))\n",
    "            names.append(name)\n",
    "            comments.append(comment)\n",
    "    return comments, names\n",
    "            \n",
    "\n",
    "def get_feature_space_representaion(sentence):\n",
    "    doc_tokens = sentence.split()\n",
    "    words = [token for token in doc_tokens if token in model.vocab]\n",
    "    features = model[words]\n",
    "    mins = np.min(features, axis=0)\n",
    "    maxs = np.max(features, axis=0)\n",
    "    stack = np.hstack((mins, maxs))\n",
    "    return stack\n",
    "\n",
    "\n",
    "sentences, names = load_sentences()"
   ]
  },
  {
   "cell_type": "code",
   "execution_count": null,
   "metadata": {},
   "outputs": [],
   "source": [
    "stacks = []\n",
    "for sentence in sentences:\n",
    "    print(sentence)\n",
    "    stack = get_feature_space_representaion(sentence)\n",
    "    stacks.append(stack)\n",
    "\n",
    "n = np.array(names)\n",
    "s = np.array(stacks)\n",
    "\n",
    "print(s.shape)\n",
    "\n",
    "np.save('images', n)\n",
    "np.save('comments', s)"
   ]
  },
  {
   "cell_type": "code",
   "execution_count": null,
   "metadata": {},
   "outputs": [],
   "source": [
    "c = np.load('../datasets/comments.npy')\n",
    "img = np.load('../datasets/images.npy')\n",
    "print(c.shape)\n",
    "print(img.shape)"
   ]
  }
 ],
 "metadata": {
  "kernelspec": {
   "display_name": "Python 3",
   "language": "python",
   "name": "python3"
  },
  "language_info": {
   "codemirror_mode": {
    "name": "ipython",
    "version": 3
   },
   "file_extension": ".py",
   "mimetype": "text/x-python",
   "name": "python",
   "nbconvert_exporter": "python",
   "pygments_lexer": "ipython3",
   "version": "3.7.1"
  }
 },
 "nbformat": 4,
 "nbformat_minor": 2
}
