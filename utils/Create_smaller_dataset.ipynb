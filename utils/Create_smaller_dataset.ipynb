{
 "cells": [
  {
   "cell_type": "code",
   "execution_count": null,
   "metadata": {},
   "outputs": [],
   "source": [
    "import numpy as np\n",
    "import glob\n",
    "\n",
    "orig_names = np.load('../datasets/flickr30k/names.npy')\n",
    "orig_comments = np.load('../datasets/flickr30k/comments.npy')\n",
    "\n",
    "images = glob.glob('../datasets/flickr2k/img/*')\n",
    "image_names = [word.split('/')[-1] for word in images]\n",
    "image_numbers = [int(name.replace('.jpg','')) for name in image_names]\n",
    "\n",
    "image_numbers = set(image_numbers)\n",
    "small_comments = []\n",
    "small_names = []\n",
    "\n",
    "for idx, number in enumerate(orig_names):\n",
    "    if number in image_numbers:\n",
    "        small_names.append(number)\n",
    "        small_comments.append(orig_comments[idx, :])\n",
    "names = np.array(small_names)\n",
    "comments = np.array(small_comments)\n",
    "\n",
    "print(names.shape)\n",
    "print(comments.shape)\n",
    "\n",
    "np.save('small_comments', comments)\n",
    "np.save('small_names', names)"
   ]
  }
 ],
 "metadata": {
  "kernelspec": {
   "display_name": "Python 3",
   "language": "python",
   "name": "python3"
  },
  "language_info": {
   "codemirror_mode": {
    "name": "ipython",
    "version": 3
   },
   "file_extension": ".py",
   "mimetype": "text/x-python",
   "name": "python",
   "nbconvert_exporter": "python",
   "pygments_lexer": "ipython3",
   "version": "3.7.1"
  }
 },
 "nbformat": 4,
 "nbformat_minor": 2
}
